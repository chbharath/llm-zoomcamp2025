{
 "cells": [
  {
   "cell_type": "code",
   "execution_count": 1,
   "id": "bac73223-178c-40a9-b01d-ab1e96d569d6",
   "metadata": {},
   "outputs": [
    {
     "name": "stdout",
     "output_type": "stream",
     "text": [
      "--2025-06-21 04:24:56--  https://raw.githubusercontent.com/chbharath/llm-zoomcamp2025/refs/heads/main/01-intro/documents.json\n",
      "Resolving raw.githubusercontent.com (raw.githubusercontent.com)... 185.199.109.133, 185.199.110.133, 185.199.111.133, ...\n",
      "Connecting to raw.githubusercontent.com (raw.githubusercontent.com)|185.199.109.133|:443... connected.\n",
      "HTTP request sent, awaiting response... 200 OK\n",
      "Length: 658333 (643K) [text/plain]\n",
      "Saving to: ‘documents.json’\n",
      "\n",
      "documents.json      100%[===================>] 642.90K  --.-KB/s    in 0.008s  \n",
      "\n",
      "2025-06-21 04:24:57 (81.7 MB/s) - ‘documents.json’ saved [658333/658333]\n",
      "\n"
     ]
    }
   ],
   "source": [
    "!wget https://raw.githubusercontent.com/chbharath/llm-zoomcamp2025/refs/heads/main/01-intro/documents.json\n"
   ]
  },
  {
   "cell_type": "code",
   "execution_count": null,
   "id": "65f07d71-1187-4a6d-ac30-6f8f97f06844",
   "metadata": {},
   "outputs": [],
   "source": []
  }
 ],
 "metadata": {
  "kernelspec": {
   "display_name": "Python 3 (ipykernel)",
   "language": "python",
   "name": "python3"
  },
  "language_info": {
   "codemirror_mode": {
    "name": "ipython",
    "version": 3
   },
   "file_extension": ".py",
   "mimetype": "text/x-python",
   "name": "python",
   "nbconvert_exporter": "python",
   "pygments_lexer": "ipython3",
   "version": "3.12.1"
  }
 },
 "nbformat": 4,
 "nbformat_minor": 5
}
